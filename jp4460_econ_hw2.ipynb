{
 "cells": [
  {
   "cell_type": "markdown",
   "metadata": {},
   "source": [
    "# COMS W1002 Computing in Economics  \n",
    "## Project created by Professor Karl Sigman\n",
    "## Option Pricing Using Monte Carlo Simulation"
   ]
  },
  {
   "cell_type": "markdown",
   "metadata": {},
   "source": [
    "__Problem 1:__ For the values of $p=0.5$ and $p=0.75$ obtain an estimate of $p$ by using Monte Carlo Simulation with $n=100, n=1000, n=10,000$ You will generate $n$ _iid_ Bernoulli $(p)$ random variables $B_1, ..., B_n$ and use as the estimate $$ \\hat{p}= \\frac{1}{n}\\sum_{i=1}^{n}B_i $$ \n",
    "This is to show you (convince you) how accurate the Monte Carlo method can be, and how the Strong Law of Large Numbers (SLLN) works in practice."
   ]
  },
  {
   "cell_type": "code",
   "execution_count": 3,
   "metadata": {},
   "outputs": [
    {
     "name": "stdout",
     "output_type": "stream",
     "text": [
      "Estimate for p = 0.5 with n = 100: 0.47\n",
      "Estimate for p = 0.5 with n = 1000: 0.507\n",
      "Estimate for p = 0.5 with n = 10000: 0.4978\n",
      "Estimate for p = 0.75 with n = 100: 0.75\n",
      "Estimate for p = 0.75 with n = 1000: 0.756\n",
      "Estimate for p = 0.75 with n = 10000: 0.7511\n"
     ]
    }
   ],
   "source": [
    "# write your code here\n",
    "# you may add more cells as needed\n",
    "\n",
    "import numpy as np\n",
    "\n",
    "def estimate_p(p, n):\n",
    "    return np.mean(np.random.binomial(1, p, n))\n",
    "\n",
    "ps = [0.5, 0.75]\n",
    "ns = [100, 1000, 10000]\n",
    "\n",
    "for p in ps:\n",
    "    for n in ns:\n",
    "        print(f\"Estimate for p = {p} with n = {n}: {estimate_p(p, n)}\")"
   ]
  },
  {
   "cell_type": "markdown",
   "metadata": {},
   "source": [
    "__Problem 2:__ Recall the formula for computing the price $C_0$ of an option (derivative of the BLM stock prices) That yields a payoff at time $T$, denote by $C_T$:\n",
    "$$ C_0 = \\frac{1}{(1+r)^T}E^*(C_T), $$  \n",
    "\n",
    "where $*$ refers to the fact that we must use the value $p^*$ instead of the original (real) $P$ for the up/down probability of the BLM. (The real value of $P$ is not needed for pricing.) Also recall that for $C_T = (S_T - K)^+$, the European call option, the expected value, $E^*(S_T-K)^+$ can be computed explicitly yielding the famous Black-Scholes-Merton option pricing formula:  \n",
    "$$ C_0 = \\frac{1}{(1+r)^T}\\sum_{k=0}^{T} \\left( \\begin{array}{c}\n",
    "T \\\\ k  \\end{array} \\right )(p^*)^k(1-p^*)^{T-k}(u^k d^{T-k}S_0-K)^+ . $$  \n",
    "\n",
    "You are to use this formula to exactly obtain the price on the one hand, and then use Monte Carlo simulation on the other hand to compare and thus see how accurate the Monte Carlo method can be. \n",
    "\n",
    "Here are the parameters to use: $T = 10, r = 0.05, u = 1.15, d= 1.01, S_0 = 50, K = 70$. Recall that \n",
    "$$ p^* = \\frac{1+r-d}{u-d} . $$  \n",
    "\n",
    "For the Monte Carlo, use $n=100, n=1000, n=10,000$ _iid_ copies of $C_T$ (for averaging) to see how it gets more accurate as $n$ increases."
   ]
  },
  {
   "cell_type": "code",
   "execution_count": 12,
   "metadata": {},
   "outputs": [
    {
     "name": "stdout",
     "output_type": "stream",
     "text": [
      "Option Price (Monte Carlo, n=10000): 8.262247881011133\n"
     ]
    }
   ],
   "source": [
    "# write your code here\n",
    "# you may add more cells as needed\n",
    "\n",
    "import numpy as np\n",
    "\n",
    "# Parameters\n",
    "T = 10\n",
    "r = 0.05\n",
    "u = 1.15\n",
    "d = 1.01\n",
    "S0 = 50\n",
    "K = 70\n",
    "p_star = (1 + r - d) / (u - d)\n",
    "n = 10000  \n",
    "\n",
    "total_payoff = 0\n",
    "for _ in range(n):\n",
    "    ST = S0 * (u ** np.random.binomial(T, p_star)) * (d ** (T - np.random.binomial(T, p_star)))\n",
    "    total_payoff += max(ST - K, 0)\n",
    "\n",
    "option_price = total_payoff / n / ((1 + r) ** T)\n",
    "\n",
    "print(f\"Option Price (Monte Carlo, n={n}): {option_price}\")"
   ]
  },
  {
   "cell_type": "markdown",
   "metadata": {},
   "source": [
    "__Problem 3__: With the same parameters as in Problem 2, price the _Asian call option:_ The payoff $C_T$ at atime $T$ is based on the average value of the stock over the $T$ time units:\n",
    "$$ C_T = \\left( \\frac{1}{T} \\sum_{i=1}^{T} S_i-K \\right)^+ $$  \n",
    "\n",
    "Use $n=100, n=1000, n=10,000$ _iid_ copies of $C_T$ (for averaging)."
   ]
  },
  {
   "cell_type": "code",
   "execution_count": 4,
   "metadata": {
    "collapsed": true
   },
   "outputs": [],
   "source": [
    "# write your code here\n",
    "# you may add more cells as needed\n",
    "\n",
    "import numpy as np\n",
    "\n",
    "T = 10\n",
    "r = 0.05\n",
    "u = 1.15\n",
    "d = 1.01\n",
    "S0 = 50\n",
    "K = 70\n",
    "p_star = (1 + r - d) / (u - d)\n",
    "\n"
   ]
  },
  {
   "cell_type": "markdown",
   "metadata": {},
   "source": [
    "__Problem 4__: With the same parameters as in Problem 2, but the additional parameters $n_1 = 4, n_2 =6,$ and $b=66$: price a _down and out barrier option_, that has payoff at time $T$ of  \n",
    "\n",
    "$$ C_T = (S_T -K)^+ I \\{ S_{n_1} \\geq b, S_{n_2} \\geq b \\}.$$ \n",
    "\n",
    "Use $n=100, n=1000, n=10,000$ _iid_ copies of $C_T$ (for averaging).\n",
    "\n",
    "In the above, recall that for any event $A$, $I\\{A\\}$ denotes the _indicator_ random variable defined by  \n",
    "$$ I\\{A\\} = \\left\\{ \\begin{array}{ll} 1 & \\mbox{if $A$ occurs,} \\\\ 0 & \\mbox{if $A$ does not occur.} \\end{array} \\right. $$\n",
    "\n",
    "  \n",
    "Here, $A = \\{S_{n_1} \\geq b, S_{n_2} \\geq b\\}$.\n"
   ]
  },
  {
   "cell_type": "code",
   "execution_count": 11,
   "metadata": {},
   "outputs": [
    {
     "name": "stdout",
     "output_type": "stream",
     "text": [
      "Option price for n=100: 3.922449508855643\n",
      "Option price for n=1000: 5.16531303968579\n",
      "Option price for n=10000: 4.841711241017581\n"
     ]
    }
   ],
   "source": [
    "# write your code here\n",
    "# you may add more cells as needed\n",
    "\n",
    "import numpy as np\n",
    "\n",
    "# Parameters\n",
    "T = 10\n",
    "r = 0.05\n",
    "u = 1.15\n",
    "d = 1.01\n",
    "S0 = 50\n",
    "K = 70\n",
    "b = 66\n",
    "n1 = 4\n",
    "n2 = 6\n",
    "p_star = (1 + r - d) / (u - d)\n",
    "\n",
    "def price_down_out_option(n):\n",
    "    total_payoff = 0\n",
    "    for _ in range(n):\n",
    "        S = S0\n",
    "        out = False\n",
    "        for t in range(1, T + 1):\n",
    "            S *= u if np.random.rand() < p_star else d\n",
    "            if (t == n1 or t == n2) and S < b:\n",
    "                out = True\n",
    "                break\n",
    "        if not out:\n",
    "            total_payoff += max(S - K, 0)\n",
    "    return total_payoff / n / ((1 + r) ** T)\n",
    "\n",
    "n_values = [100, 1000, 10000]\n",
    "for n in n_values:\n",
    "    option_price = price_down_out_option(n)\n",
    "    print(f\"Option price for n={n}: {option_price}\")\n",
    "#print (f\"option price for u = {u}: {option_price})\n"
   ]
  },
  {
   "cell_type": "code",
   "execution_count": null,
   "metadata": {},
   "outputs": [],
   "source": []
  }
 ],
 "metadata": {
  "kernelspec": {
   "display_name": "Python 3 (ipykernel)",
   "language": "python",
   "name": "python3"
  },
  "language_info": {
   "codemirror_mode": {
    "name": "ipython",
    "version": 3
   },
   "file_extension": ".py",
   "mimetype": "text/x-python",
   "name": "python",
   "nbconvert_exporter": "python",
   "pygments_lexer": "ipython3",
   "version": "3.11.4"
  }
 },
 "nbformat": 4,
 "nbformat_minor": 1
}
